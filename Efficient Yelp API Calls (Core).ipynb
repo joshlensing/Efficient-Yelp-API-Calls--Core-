{
 "cells": [
  {
   "cell_type": "markdown",
   "id": "fce761da",
   "metadata": {},
   "source": [
    "## Imports"
   ]
  },
  {
   "cell_type": "code",
   "execution_count": 1,
   "id": "afe2f248",
   "metadata": {},
   "outputs": [],
   "source": [
    "# Imports\n",
    "import numpy as np\n",
    "import pandas as pd\n",
    "\n",
    "# Additional Imports\n",
    "import os, json, math, time\n",
    "from yelpapi import YelpAPI\n",
    "from tqdm.notebook import tqdm_notebook"
   ]
  },
  {
   "cell_type": "markdown",
   "id": "ba3930f1",
   "metadata": {},
   "source": [
    "## Load API Credentials"
   ]
  },
  {
   "cell_type": "code",
   "execution_count": 2,
   "id": "61312fea",
   "metadata": {},
   "outputs": [],
   "source": [
    "# Load API Credentials\n",
    "with open('/Users/joshl/.secret/yelp_api.json') as f:\n",
    "    login = json.load(f)\n",
    "# Instantiate YelpAPI Variable\n",
    "yelp_api = YelpAPI(login['api-key'], timeout_s=5.0)"
   ]
  },
  {
   "cell_type": "markdown",
   "id": "edbf4c14",
   "metadata": {},
   "source": [
    "## Create JSON File\n",
    "\n",
    "Next I want to set the parameters for the search terms."
   ]
  },
  {
   "cell_type": "code",
   "execution_count": 3,
   "id": "5bc3df3e",
   "metadata": {},
   "outputs": [],
   "source": [
    "# set the API call parameters \n",
    "LOCATION = 'Boston, MA'\n",
    "TERM = 'Clam Chowder'"
   ]
  },
  {
   "cell_type": "code",
   "execution_count": 4,
   "id": "3861d246",
   "metadata": {},
   "outputs": [
    {
     "data": {
      "text/plain": [
       "'Data/results_in_progress_chowder.json'"
      ]
     },
     "execution_count": 4,
     "metadata": {},
     "output_type": "execute_result"
    }
   ],
   "source": [
    "# Specifying JSON_FILE filename\n",
    "boston_chowder = \"Data/results_in_progress_chowder.json\"\n",
    "boston_chowder"
   ]
  },
  {
   "cell_type": "markdown",
   "id": "80d73017",
   "metadata": {},
   "source": [
    "Next I will define a function in order to make API calls from Yelp."
   ]
  },
  {
   "cell_type": "code",
   "execution_count": 5,
   "id": "9dd5d6b2",
   "metadata": {},
   "outputs": [],
   "source": [
    "def create_json_file(boston_chowder, delete_if_exists=False):\n",
    "    file_exists = os.path.isfile(boston_chowder)\n",
    "    \n",
    "    if file_exists == True:\n",
    "        if delete_if_exists == True:\n",
    "            print(f\"[i] {boston_chowder} already exists. Deleting previous file...\")\n",
    "            os.remove(boston_chowder)\n",
    "            create_json_file(boston_chowder, delete_if_exists=False)\n",
    "        else:\n",
    "            print(f\"[i] {boston_chowder} already exists.\")\n",
    "            \n",
    "    else:\n",
    "        print(f\"[i] {boston_chowder} not found. Saving empty list to new file.\")\n",
    "        folder = os.path.dirname(boston_chowder)\n",
    "        if len(folder)>0:\n",
    "            os.makedirs(folder, exist_ok=True)\n",
    "        with open(boston_chowder,'w') as f:\n",
    "            json.dump([],f)"
   ]
  },
  {
   "cell_type": "markdown",
   "id": "d23a758d",
   "metadata": {},
   "source": [
    "Now I can create the new JSON file using the function from above."
   ]
  },
  {
   "cell_type": "code",
   "execution_count": 6,
   "id": "23a570da",
   "metadata": {},
   "outputs": [
    {
     "name": "stdout",
     "output_type": "stream",
     "text": [
      "[i] Data/results_in_progress_chowder.json not found. Saving empty list to new file.\n",
      "- 0 previous results found.\n"
     ]
    },
    {
     "data": {
      "text/plain": [
       "70"
      ]
     },
     "execution_count": 6,
     "metadata": {},
     "output_type": "execute_result"
    }
   ],
   "source": [
    "## Create a new empty json file (exist the previous if it exists)\n",
    "create_json_file(boston_chowder, delete_if_exists=True)\n",
    "\n",
    "with open(boston_chowder,'r') as f:\n",
    "    previous_results = json.load(f)\n",
    "    \n",
    "## set offset based on previous results\n",
    "n_results = len(previous_results)\n",
    "print(f'- {n_results} previous results found.')\n",
    "\n",
    "results = yelp_api.search_query(location=LOCATION,\n",
    "                                term=TERM,\n",
    "                               offset=n_results)\n",
    "## How many results total?\n",
    "total_results = results['total']\n",
    "## How many did we get the details for?\n",
    "results_per_page = len(results['businesses'])\n",
    "# Use math.ceil to round up for the total number of pages of results.\n",
    "n_pages = math.ceil((results['total']-n_results)/ results_per_page)\n",
    "n_pages"
   ]
  },
  {
   "cell_type": "markdown",
   "id": "19fb7f6f",
   "metadata": {},
   "source": [
    "In order to get all pages for the API call, I want to iterate through all 70 pages starting at the proper offset. I will stop the loop at 1000 calls in order to prevent getting an error from the YelpAPI."
   ]
  },
  {
   "cell_type": "code",
   "execution_count": 7,
   "id": "b5a2d80e",
   "metadata": {},
   "outputs": [
    {
     "data": {
      "application/vnd.jupyter.widget-view+json": {
       "model_id": "50233398842a449a903bb0cb5d62cbdc",
       "version_major": 2,
       "version_minor": 0
      },
      "text/plain": [
       "  0%|          | 0/70 [00:00<?, ?it/s]"
      ]
     },
     "metadata": {},
     "output_type": "display_data"
    },
    {
     "name": "stdout",
     "output_type": "stream",
     "text": [
      "Exceeded 1000 api calls. Stopping loop.\n"
     ]
    }
   ],
   "source": [
    "for i in tqdm_notebook( range(1,n_pages+1)):\n",
    "    \n",
    "    with open(boston_chowder, 'r') as f:\n",
    "        previous_results = json.load(f)\n",
    "    \n",
    "    n_results = len(previous_results)\n",
    "    \n",
    "    if (n_results + results_per_page) > 1000:\n",
    "        print('Exceeded 1000 api calls. Stopping loop.')\n",
    "        break\n",
    "    \n",
    "    ## use n_results as the OFFSET \n",
    "    results = yelp_api.search_query(location=LOCATION,\n",
    "                                    term=TERM, \n",
    "                                    offset=n_results)\n",
    "    \n",
    "    \n",
    "    \n",
    "    ## append new results and save to file\n",
    "    previous_results.extend(results['businesses'])\n",
    "    \n",
    "    # display(previous_results)\n",
    "    with open(boston_chowder,'w') as f:\n",
    "        json.dump(previous_results,f)\n",
    "    \n",
    "    time.sleep(.2)"
   ]
  },
  {
   "cell_type": "markdown",
   "id": "093d7561",
   "metadata": {},
   "source": [
    "## Converting the Call to DataFrame"
   ]
  },
  {
   "cell_type": "code",
   "execution_count": 9,
   "id": "1d69827d",
   "metadata": {},
   "outputs": [
    {
     "data": {
      "text/html": [
       "<div>\n",
       "<style scoped>\n",
       "    .dataframe tbody tr th:only-of-type {\n",
       "        vertical-align: middle;\n",
       "    }\n",
       "\n",
       "    .dataframe tbody tr th {\n",
       "        vertical-align: top;\n",
       "    }\n",
       "\n",
       "    .dataframe thead th {\n",
       "        text-align: right;\n",
       "    }\n",
       "</style>\n",
       "<table border=\"1\" class=\"dataframe\">\n",
       "  <thead>\n",
       "    <tr style=\"text-align: right;\">\n",
       "      <th></th>\n",
       "      <th>id</th>\n",
       "      <th>alias</th>\n",
       "      <th>name</th>\n",
       "      <th>image_url</th>\n",
       "      <th>is_closed</th>\n",
       "      <th>url</th>\n",
       "      <th>review_count</th>\n",
       "      <th>categories</th>\n",
       "      <th>rating</th>\n",
       "      <th>coordinates</th>\n",
       "      <th>transactions</th>\n",
       "      <th>price</th>\n",
       "      <th>location</th>\n",
       "      <th>phone</th>\n",
       "      <th>display_phone</th>\n",
       "      <th>distance</th>\n",
       "    </tr>\n",
       "  </thead>\n",
       "  <tbody>\n",
       "    <tr>\n",
       "      <th>0</th>\n",
       "      <td>XNvkDjM6rMnSfzubT32brQ</td>\n",
       "      <td>boston-chowda-boston-3</td>\n",
       "      <td>Boston Chowda</td>\n",
       "      <td>https://s3-media3.fl.yelpcdn.com/bphoto/DZ5nAH...</td>\n",
       "      <td>False</td>\n",
       "      <td>https://www.yelp.com/biz/boston-chowda-boston-...</td>\n",
       "      <td>1184</td>\n",
       "      <td>[{'alias': 'seafood', 'title': 'Seafood'}, {'a...</td>\n",
       "      <td>4.0</td>\n",
       "      <td>{'latitude': 42.360065, 'longitude': -71.055374}</td>\n",
       "      <td>[pickup, delivery]</td>\n",
       "      <td>$$</td>\n",
       "      <td>{'address1': '1 Faneuil Hall Market Pl', 'addr...</td>\n",
       "      <td>+16177424441</td>\n",
       "      <td>(617) 742-4441</td>\n",
       "      <td>5270.566848</td>\n",
       "    </tr>\n",
       "    <tr>\n",
       "      <th>1</th>\n",
       "      <td>xkLwAfgIYXYHzJF8C_fhCA</td>\n",
       "      <td>tonys-clam-shop-quincy</td>\n",
       "      <td>Tony's Clam Shop</td>\n",
       "      <td>https://s3-media2.fl.yelpcdn.com/bphoto/fuctCw...</td>\n",
       "      <td>False</td>\n",
       "      <td>https://www.yelp.com/biz/tonys-clam-shop-quinc...</td>\n",
       "      <td>685</td>\n",
       "      <td>[{'alias': 'seafood', 'title': 'Seafood'}, {'a...</td>\n",
       "      <td>4.0</td>\n",
       "      <td>{'latitude': 42.27524349415289, 'longitude': -...</td>\n",
       "      <td>[]</td>\n",
       "      <td>$$</td>\n",
       "      <td>{'address1': '861 Quincy Shore Dr', 'address2'...</td>\n",
       "      <td>+16177735090</td>\n",
       "      <td>(617) 773-5090</td>\n",
       "      <td>5899.108532</td>\n",
       "    </tr>\n",
       "    <tr>\n",
       "      <th>2</th>\n",
       "      <td>y2w6rFaO0XEiG5mFfOsiFA</td>\n",
       "      <td>neptune-oyster-boston</td>\n",
       "      <td>Neptune Oyster</td>\n",
       "      <td>https://s3-media4.fl.yelpcdn.com/bphoto/qzU7C1...</td>\n",
       "      <td>False</td>\n",
       "      <td>https://www.yelp.com/biz/neptune-oyster-boston...</td>\n",
       "      <td>5939</td>\n",
       "      <td>[{'alias': 'seafood', 'title': 'Seafood'}, {'a...</td>\n",
       "      <td>4.5</td>\n",
       "      <td>{'latitude': 42.36321, 'longitude': -71.05594}</td>\n",
       "      <td>[delivery]</td>\n",
       "      <td>$$$</td>\n",
       "      <td>{'address1': '63 Salem St', 'address2': '', 'a...</td>\n",
       "      <td>+16177423474</td>\n",
       "      <td>(617) 742-3474</td>\n",
       "      <td>5622.373454</td>\n",
       "    </tr>\n",
       "    <tr>\n",
       "      <th>3</th>\n",
       "      <td>i6uHrxuS1D_6V8WhaWLy5A</td>\n",
       "      <td>lukes-lobster-back-bay-boston</td>\n",
       "      <td>Luke's Lobster Back Bay</td>\n",
       "      <td>https://s3-media1.fl.yelpcdn.com/bphoto/EnMeIE...</td>\n",
       "      <td>False</td>\n",
       "      <td>https://www.yelp.com/biz/lukes-lobster-back-ba...</td>\n",
       "      <td>1994</td>\n",
       "      <td>[{'alias': 'seafood', 'title': 'Seafood'}, {'a...</td>\n",
       "      <td>4.0</td>\n",
       "      <td>{'latitude': 42.34869123638961, 'longitude': -...</td>\n",
       "      <td>[pickup, delivery]</td>\n",
       "      <td>$$</td>\n",
       "      <td>{'address1': '75 Exeter Street', 'address2': '...</td>\n",
       "      <td>+18573504626</td>\n",
       "      <td>(857) 350-4626</td>\n",
       "      <td>4407.684543</td>\n",
       "    </tr>\n",
       "    <tr>\n",
       "      <th>4</th>\n",
       "      <td>HEaQQAH6qyFXamKkpil91A</td>\n",
       "      <td>paulis-boston</td>\n",
       "      <td>Pauli's</td>\n",
       "      <td>https://s3-media2.fl.yelpcdn.com/bphoto/9hiaqb...</td>\n",
       "      <td>False</td>\n",
       "      <td>https://www.yelp.com/biz/paulis-boston?adjust_...</td>\n",
       "      <td>1412</td>\n",
       "      <td>[{'alias': 'sandwiches', 'title': 'Sandwiches'...</td>\n",
       "      <td>4.5</td>\n",
       "      <td>{'latitude': 42.363244212396, 'longitude': -71...</td>\n",
       "      <td>[pickup, delivery]</td>\n",
       "      <td>$$</td>\n",
       "      <td>{'address1': '65 Salem St', 'address2': None, ...</td>\n",
       "      <td>+18572847064</td>\n",
       "      <td>(857) 284-7064</td>\n",
       "      <td>5623.058982</td>\n",
       "    </tr>\n",
       "  </tbody>\n",
       "</table>\n",
       "</div>"
      ],
      "text/plain": [
       "                       id                          alias  \\\n",
       "0  XNvkDjM6rMnSfzubT32brQ         boston-chowda-boston-3   \n",
       "1  xkLwAfgIYXYHzJF8C_fhCA         tonys-clam-shop-quincy   \n",
       "2  y2w6rFaO0XEiG5mFfOsiFA          neptune-oyster-boston   \n",
       "3  i6uHrxuS1D_6V8WhaWLy5A  lukes-lobster-back-bay-boston   \n",
       "4  HEaQQAH6qyFXamKkpil91A                  paulis-boston   \n",
       "\n",
       "                      name                                          image_url  \\\n",
       "0            Boston Chowda  https://s3-media3.fl.yelpcdn.com/bphoto/DZ5nAH...   \n",
       "1         Tony's Clam Shop  https://s3-media2.fl.yelpcdn.com/bphoto/fuctCw...   \n",
       "2           Neptune Oyster  https://s3-media4.fl.yelpcdn.com/bphoto/qzU7C1...   \n",
       "3  Luke's Lobster Back Bay  https://s3-media1.fl.yelpcdn.com/bphoto/EnMeIE...   \n",
       "4                  Pauli's  https://s3-media2.fl.yelpcdn.com/bphoto/9hiaqb...   \n",
       "\n",
       "   is_closed                                                url  review_count  \\\n",
       "0      False  https://www.yelp.com/biz/boston-chowda-boston-...          1184   \n",
       "1      False  https://www.yelp.com/biz/tonys-clam-shop-quinc...           685   \n",
       "2      False  https://www.yelp.com/biz/neptune-oyster-boston...          5939   \n",
       "3      False  https://www.yelp.com/biz/lukes-lobster-back-ba...          1994   \n",
       "4      False  https://www.yelp.com/biz/paulis-boston?adjust_...          1412   \n",
       "\n",
       "                                          categories  rating  \\\n",
       "0  [{'alias': 'seafood', 'title': 'Seafood'}, {'a...     4.0   \n",
       "1  [{'alias': 'seafood', 'title': 'Seafood'}, {'a...     4.0   \n",
       "2  [{'alias': 'seafood', 'title': 'Seafood'}, {'a...     4.5   \n",
       "3  [{'alias': 'seafood', 'title': 'Seafood'}, {'a...     4.0   \n",
       "4  [{'alias': 'sandwiches', 'title': 'Sandwiches'...     4.5   \n",
       "\n",
       "                                         coordinates        transactions  \\\n",
       "0   {'latitude': 42.360065, 'longitude': -71.055374}  [pickup, delivery]   \n",
       "1  {'latitude': 42.27524349415289, 'longitude': -...                  []   \n",
       "2     {'latitude': 42.36321, 'longitude': -71.05594}          [delivery]   \n",
       "3  {'latitude': 42.34869123638961, 'longitude': -...  [pickup, delivery]   \n",
       "4  {'latitude': 42.363244212396, 'longitude': -71...  [pickup, delivery]   \n",
       "\n",
       "  price                                           location         phone  \\\n",
       "0    $$  {'address1': '1 Faneuil Hall Market Pl', 'addr...  +16177424441   \n",
       "1    $$  {'address1': '861 Quincy Shore Dr', 'address2'...  +16177735090   \n",
       "2   $$$  {'address1': '63 Salem St', 'address2': '', 'a...  +16177423474   \n",
       "3    $$  {'address1': '75 Exeter Street', 'address2': '...  +18573504626   \n",
       "4    $$  {'address1': '65 Salem St', 'address2': None, ...  +18572847064   \n",
       "\n",
       "    display_phone     distance  \n",
       "0  (617) 742-4441  5270.566848  \n",
       "1  (617) 773-5090  5899.108532  \n",
       "2  (617) 742-3474  5622.373454  \n",
       "3  (857) 350-4626  4407.684543  \n",
       "4  (857) 284-7064  5623.058982  "
      ]
     },
     "metadata": {},
     "output_type": "display_data"
    },
    {
     "data": {
      "text/html": [
       "<div>\n",
       "<style scoped>\n",
       "    .dataframe tbody tr th:only-of-type {\n",
       "        vertical-align: middle;\n",
       "    }\n",
       "\n",
       "    .dataframe tbody tr th {\n",
       "        vertical-align: top;\n",
       "    }\n",
       "\n",
       "    .dataframe thead th {\n",
       "        text-align: right;\n",
       "    }\n",
       "</style>\n",
       "<table border=\"1\" class=\"dataframe\">\n",
       "  <thead>\n",
       "    <tr style=\"text-align: right;\">\n",
       "      <th></th>\n",
       "      <th>id</th>\n",
       "      <th>alias</th>\n",
       "      <th>name</th>\n",
       "      <th>image_url</th>\n",
       "      <th>is_closed</th>\n",
       "      <th>url</th>\n",
       "      <th>review_count</th>\n",
       "      <th>categories</th>\n",
       "      <th>rating</th>\n",
       "      <th>coordinates</th>\n",
       "      <th>transactions</th>\n",
       "      <th>price</th>\n",
       "      <th>location</th>\n",
       "      <th>phone</th>\n",
       "      <th>display_phone</th>\n",
       "      <th>distance</th>\n",
       "    </tr>\n",
       "  </thead>\n",
       "  <tbody>\n",
       "    <tr>\n",
       "      <th>995</th>\n",
       "      <td>aDwA3DyR8gjY2nwGSqz8pQ</td>\n",
       "      <td>allies-beach-street-cafe-manchester-by-the-sea-2</td>\n",
       "      <td>Allie's Beach Street Cafe</td>\n",
       "      <td>https://s3-media1.fl.yelpcdn.com/bphoto/dhpuy-...</td>\n",
       "      <td>False</td>\n",
       "      <td>https://www.yelp.com/biz/allies-beach-street-c...</td>\n",
       "      <td>130</td>\n",
       "      <td>[{'alias': 'bars', 'title': 'Bars'}, {'alias':...</td>\n",
       "      <td>3.5</td>\n",
       "      <td>{'latitude': 42.57381, 'longitude': -70.770451}</td>\n",
       "      <td>[]</td>\n",
       "      <td>$$</td>\n",
       "      <td>{'address1': '35 Beach St', 'address2': '', 'a...</td>\n",
       "      <td>+19787049571</td>\n",
       "      <td>(978) 704-9571</td>\n",
       "      <td>37353.699141</td>\n",
       "    </tr>\n",
       "    <tr>\n",
       "      <th>996</th>\n",
       "      <td>8qKsRvKOwqNMbMfdIQfueQ</td>\n",
       "      <td>boathouse-400-boston</td>\n",
       "      <td>Boathouse 400</td>\n",
       "      <td>https://s3-media2.fl.yelpcdn.com/bphoto/Cd7TD2...</td>\n",
       "      <td>False</td>\n",
       "      <td>https://www.yelp.com/biz/boathouse-400-boston?...</td>\n",
       "      <td>9</td>\n",
       "      <td>[{'alias': 'seafood', 'title': 'Seafood'}]</td>\n",
       "      <td>2.5</td>\n",
       "      <td>{'latitude': 42.36007, 'longitude': -71.1182}</td>\n",
       "      <td>[delivery]</td>\n",
       "      <td>NaN</td>\n",
       "      <td>{'address1': '400 Soldiers Field Rd', 'address...</td>\n",
       "      <td>+16177830090</td>\n",
       "      <td>(617) 783-0090</td>\n",
       "      <td>7297.873861</td>\n",
       "    </tr>\n",
       "    <tr>\n",
       "      <th>997</th>\n",
       "      <td>5Ekp-L6hnnZz3-qPkNHy3g</td>\n",
       "      <td>napper-tandys-roslindale</td>\n",
       "      <td>Napper Tandy's</td>\n",
       "      <td>https://s3-media3.fl.yelpcdn.com/bphoto/rhOtwq...</td>\n",
       "      <td>False</td>\n",
       "      <td>https://www.yelp.com/biz/napper-tandys-roslind...</td>\n",
       "      <td>84</td>\n",
       "      <td>[{'alias': 'irish', 'title': 'Irish'}, {'alias...</td>\n",
       "      <td>3.5</td>\n",
       "      <td>{'latitude': 42.2873506034849, 'longitude': -7...</td>\n",
       "      <td>[pickup, delivery]</td>\n",
       "      <td>$$</td>\n",
       "      <td>{'address1': '4195 Washington St', 'address2':...</td>\n",
       "      <td>+16173238400</td>\n",
       "      <td>(617) 323-8400</td>\n",
       "      <td>6455.446934</td>\n",
       "    </tr>\n",
       "    <tr>\n",
       "      <th>998</th>\n",
       "      <td>T1wflZohQRZVb9SKQapfFA</td>\n",
       "      <td>del-friscos-double-eagle-steakhouse-boston-4</td>\n",
       "      <td>Del Frisco's Double Eagle Steakhouse</td>\n",
       "      <td>https://s3-media4.fl.yelpcdn.com/bphoto/hm3IlP...</td>\n",
       "      <td>False</td>\n",
       "      <td>https://www.yelp.com/biz/del-friscos-double-ea...</td>\n",
       "      <td>1215</td>\n",
       "      <td>[{'alias': 'seafood', 'title': 'Seafood'}, {'a...</td>\n",
       "      <td>3.5</td>\n",
       "      <td>{'latitude': 42.3489496, 'longitude': -71.038692}</td>\n",
       "      <td>[pickup, delivery]</td>\n",
       "      <td>$$$$</td>\n",
       "      <td>{'address1': '250 Northern Ave', 'address2': '...</td>\n",
       "      <td>+16179511368</td>\n",
       "      <td>(617) 951-1368</td>\n",
       "      <td>4299.836740</td>\n",
       "    </tr>\n",
       "    <tr>\n",
       "      <th>999</th>\n",
       "      <td>uLJDW4zL079EG73h0aMAnA</td>\n",
       "      <td>parkers-pub-wrentham</td>\n",
       "      <td>Parkers Pub</td>\n",
       "      <td>https://s3-media3.fl.yelpcdn.com/bphoto/TwtC-f...</td>\n",
       "      <td>False</td>\n",
       "      <td>https://www.yelp.com/biz/parkers-pub-wrentham?...</td>\n",
       "      <td>64</td>\n",
       "      <td>[{'alias': 'pubs', 'title': 'Pubs'}]</td>\n",
       "      <td>4.0</td>\n",
       "      <td>{'latitude': 42.08339, 'longitude': -71.32718}</td>\n",
       "      <td>[pickup, delivery]</td>\n",
       "      <td>$$</td>\n",
       "      <td>{'address1': '303 Shears St', 'address2': '', ...</td>\n",
       "      <td>+17742108962</td>\n",
       "      <td>(774) 210-8962</td>\n",
       "      <td>33857.005998</td>\n",
       "    </tr>\n",
       "  </tbody>\n",
       "</table>\n",
       "</div>"
      ],
      "text/plain": [
       "                         id                                             alias  \\\n",
       "995  aDwA3DyR8gjY2nwGSqz8pQ  allies-beach-street-cafe-manchester-by-the-sea-2   \n",
       "996  8qKsRvKOwqNMbMfdIQfueQ                              boathouse-400-boston   \n",
       "997  5Ekp-L6hnnZz3-qPkNHy3g                          napper-tandys-roslindale   \n",
       "998  T1wflZohQRZVb9SKQapfFA      del-friscos-double-eagle-steakhouse-boston-4   \n",
       "999  uLJDW4zL079EG73h0aMAnA                              parkers-pub-wrentham   \n",
       "\n",
       "                                     name  \\\n",
       "995             Allie's Beach Street Cafe   \n",
       "996                         Boathouse 400   \n",
       "997                        Napper Tandy's   \n",
       "998  Del Frisco's Double Eagle Steakhouse   \n",
       "999                           Parkers Pub   \n",
       "\n",
       "                                             image_url  is_closed  \\\n",
       "995  https://s3-media1.fl.yelpcdn.com/bphoto/dhpuy-...      False   \n",
       "996  https://s3-media2.fl.yelpcdn.com/bphoto/Cd7TD2...      False   \n",
       "997  https://s3-media3.fl.yelpcdn.com/bphoto/rhOtwq...      False   \n",
       "998  https://s3-media4.fl.yelpcdn.com/bphoto/hm3IlP...      False   \n",
       "999  https://s3-media3.fl.yelpcdn.com/bphoto/TwtC-f...      False   \n",
       "\n",
       "                                                   url  review_count  \\\n",
       "995  https://www.yelp.com/biz/allies-beach-street-c...           130   \n",
       "996  https://www.yelp.com/biz/boathouse-400-boston?...             9   \n",
       "997  https://www.yelp.com/biz/napper-tandys-roslind...            84   \n",
       "998  https://www.yelp.com/biz/del-friscos-double-ea...          1215   \n",
       "999  https://www.yelp.com/biz/parkers-pub-wrentham?...            64   \n",
       "\n",
       "                                            categories  rating  \\\n",
       "995  [{'alias': 'bars', 'title': 'Bars'}, {'alias':...     3.5   \n",
       "996         [{'alias': 'seafood', 'title': 'Seafood'}]     2.5   \n",
       "997  [{'alias': 'irish', 'title': 'Irish'}, {'alias...     3.5   \n",
       "998  [{'alias': 'seafood', 'title': 'Seafood'}, {'a...     3.5   \n",
       "999               [{'alias': 'pubs', 'title': 'Pubs'}]     4.0   \n",
       "\n",
       "                                           coordinates        transactions  \\\n",
       "995    {'latitude': 42.57381, 'longitude': -70.770451}                  []   \n",
       "996      {'latitude': 42.36007, 'longitude': -71.1182}          [delivery]   \n",
       "997  {'latitude': 42.2873506034849, 'longitude': -7...  [pickup, delivery]   \n",
       "998  {'latitude': 42.3489496, 'longitude': -71.038692}  [pickup, delivery]   \n",
       "999     {'latitude': 42.08339, 'longitude': -71.32718}  [pickup, delivery]   \n",
       "\n",
       "    price                                           location         phone  \\\n",
       "995    $$  {'address1': '35 Beach St', 'address2': '', 'a...  +19787049571   \n",
       "996   NaN  {'address1': '400 Soldiers Field Rd', 'address...  +16177830090   \n",
       "997    $$  {'address1': '4195 Washington St', 'address2':...  +16173238400   \n",
       "998  $$$$  {'address1': '250 Northern Ave', 'address2': '...  +16179511368   \n",
       "999    $$  {'address1': '303 Shears St', 'address2': '', ...  +17742108962   \n",
       "\n",
       "      display_phone      distance  \n",
       "995  (978) 704-9571  37353.699141  \n",
       "996  (617) 783-0090   7297.873861  \n",
       "997  (617) 323-8400   6455.446934  \n",
       "998  (617) 951-1368   4299.836740  \n",
       "999  (774) 210-8962  33857.005998  "
      ]
     },
     "metadata": {},
     "output_type": "display_data"
    }
   ],
   "source": [
    "# load final results\n",
    "boston_chowder_final = pd.read_json(boston_chowder)\n",
    "display(boston_chowder_final.head(), boston_chowder_final.tail())"
   ]
  },
  {
   "cell_type": "markdown",
   "id": "d665f791",
   "metadata": {},
   "source": [
    "Now I will check for any duplicates in the DataFrame."
   ]
  },
  {
   "cell_type": "code",
   "execution_count": 10,
   "id": "5293233c",
   "metadata": {},
   "outputs": [
    {
     "data": {
      "text/plain": [
       "0"
      ]
     },
     "execution_count": 10,
     "metadata": {},
     "output_type": "execute_result"
    }
   ],
   "source": [
    "# check for duplicate ID's \n",
    "boston_chowder_final.duplicated(subset='id').sum()"
   ]
  },
  {
   "cell_type": "markdown",
   "id": "079f1c29",
   "metadata": {},
   "source": [
    "Since there are no duplicated rows, I will save the dataframe to a .csv."
   ]
  },
  {
   "cell_type": "code",
   "execution_count": 11,
   "id": "f3f731b3",
   "metadata": {},
   "outputs": [],
   "source": [
    "# save the final results to a compressed csv\n",
    "boston_chowder_final.to_csv('Data/final_results_chowder.csv.gz', compression='gzip',index=False)"
   ]
  },
  {
   "cell_type": "code",
   "execution_count": null,
   "id": "a0d2707c",
   "metadata": {},
   "outputs": [],
   "source": []
  }
 ],
 "metadata": {
  "kernelspec": {
   "display_name": "Python (dojo-env)",
   "language": "python",
   "name": "dojo-env"
  },
  "language_info": {
   "codemirror_mode": {
    "name": "ipython",
    "version": 3
   },
   "file_extension": ".py",
   "mimetype": "text/x-python",
   "name": "python",
   "nbconvert_exporter": "python",
   "pygments_lexer": "ipython3",
   "version": "3.9.15"
  },
  "toc": {
   "base_numbering": 1,
   "nav_menu": {},
   "number_sections": true,
   "sideBar": true,
   "skip_h1_title": false,
   "title_cell": "Table of Contents",
   "title_sidebar": "Contents",
   "toc_cell": false,
   "toc_position": {},
   "toc_section_display": true,
   "toc_window_display": false
  }
 },
 "nbformat": 4,
 "nbformat_minor": 5
}
